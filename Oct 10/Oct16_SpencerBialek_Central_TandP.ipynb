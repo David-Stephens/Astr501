{
 "cells": [
  {
   "cell_type": "markdown",
   "metadata": {},
   "source": [
    "## Initialize session"
   ]
  },
  {
   "cell_type": "code",
   "execution_count": 1,
   "metadata": {},
   "outputs": [
    {
     "name": "stdout",
     "output_type": "stream",
     "text": [
      "Using matplotlib backend: nbAgg\n",
      "Populating the interactive namespace from numpy and matplotlib\n"
     ]
    }
   ],
   "source": [
    "%pylab \n",
    "from nugridpy import nugridse as mp\n",
    "from nugridpy import mesa as ms\n",
    "\n",
    "data_dir=\"/data/nugrid_apod2/\"    \n",
    "\n",
    "ms.set_nugrid_path(data_dir)\n",
    "mp.set_nugrid_path(data_dir)"
   ]
  },
  {
   "cell_type": "markdown",
   "metadata": {},
   "source": [
    "## Deriving central pressure and temperature for a MS star of total mass M and radius R"
   ]
  },
  {
   "cell_type": "markdown",
   "metadata": {},
   "source": [
    "Let's first derive the central pressure of a star starting from the condition for hydrostatic equilibrium (HSE):"
   ]
  },
  {
   "cell_type": "markdown",
   "metadata": {},
   "source": [
    "$$\\textbf{HSE}: \\frac{dP}{dr} = -\\rho(r)g(r) = -G\\rho(r)m(r)/r^2$$\n",
    "\n",
    "How about we make a simplifying assumption that $\\rho(r)$ is just a constant value throughout the star? Further, let us assume that constant value is the mean density $\\bar{\\rho} = \\frac{3M}{4\\pi R^3} $\n",
    "\n",
    "Thus, after substituting in m(r) = $\\frac{4\\pi}{3}\\bar{\\rho} r^3$ and $\\bar{\\rho}$ from above, the differential becomes:\n",
    "\n",
    "$$dP = -\\frac{3GM^2}{4\\pi R^6} r dr $$\n",
    "\n",
    "Taking dP going from the central pressure $P_C$ to $P(R) = 0$ and dr going from 0 to the stellar radius R we get: \n",
    "\n",
    "<div class=\"alert alert-block alert-warning\">\n",
    "<font color=blue>\n",
    "$$P_C = -\\frac{3GM^2}{8\\pi R^4}$$\n",
    "</font>\n",
    "</div>"
   ]
  },
  {
   "cell_type": "markdown",
   "metadata": {},
   "source": [
    "<div class=\"alert alert-block alert-warning\">\n",
    "$$P_C = -\\frac{3GM^2}{8\\pi R^4}$$\n",
    "</div>"
   ]
  },
  {
   "cell_type": "markdown",
   "metadata": {},
   "source": [
    "Okay, now let's derive the central temperature from the virial theorem (VT):\n",
    "\n",
    "$$\\textbf{VT}: 2KE + \\Omega = 0$$\n",
    "\n",
    "First we need to determine what the potential energy inside a star is. Let's consider the potential energy of a shell of mass $dm = 4\\pi \\rho (r) r^2dr$:\n",
    "\n",
    "$$ d\\Omega = -\\frac{G m(r) dm}{r} = -4\\pi G m(r) \\rho (r) r dr $$\n",
    "\n",
    "Again we will assume that the density is constant and equal to $\\bar{\\rho}$, giving us:\n",
    "\n",
    "$$ d\\Omega = - 3  \\frac{GM^2}{R^6} r^4 dr $$\n",
    "\n",
    "After integrating we get:\n",
    "\n",
    "$$ \\Omega = - \\frac{3}{5}  \\frac{GM^2}{R}  $$\n",
    "\n",
    "Cool, now by the **virial theorem** we know the average kinetic energy of the system is going to be equal to half of this. We can consider the kinetic energy arising due to the thermal energy of the system, thus:\n",
    "\n",
    "$$ KE = \\frac{3}{2} NkT  = \\frac{3}{10}  \\frac{GM^2}{R} $$\n",
    "\n",
    "Approximating that the star is composed entirely of hydrogen (allowing the substitution $N = M/m_H$) and that the central temperature, $T_C$, is *approximately* the same as the average temperature, we end up with:\n",
    "\n",
    "<div class=\"alert alert-block alert-warning\">\n",
    "<font color=blue>\n",
    "$$ T_C = \\frac{1}{5}  \\frac{GMm_H}{kR} $$\n",
    "</font>\n",
    "</div>"
   ]
  },
  {
   "cell_type": "markdown",
   "metadata": {},
   "source": [
    "## Let's compare the numbers we get from MESA models to the quanitites we get from above equations"
   ]
  },
  {
   "cell_type": "code",
   "execution_count": 2,
   "metadata": {},
   "outputs": [
    {
     "name": "stdout",
     "output_type": "stream",
     "text": [
      "nugrid_path = /data/nugrid_apod2/\n",
      "closest set is set1.2 (Z = 0.02)\n",
      "closest mass is 2.0\n",
      "Using old star.logsa file ...\n",
      " reading ...100% \n",
      "\n"
     ]
    }
   ],
   "source": [
    "mass = 2\n",
    "Z = 0.02\n",
    "\n",
    "s=ms.star_log(mass=mass,Z=Z)"
   ]
  },
  {
   "cell_type": "markdown",
   "metadata": {},
   "source": [
    "#### Find where the main sequence begins.."
   ]
  },
  {
   "cell_type": "code",
   "execution_count": 18,
   "metadata": {},
   "outputs": [],
   "source": [
    "h1=s.get('center_h1')\n",
    "MS_begin=np.where(h1[0]-h1>=3.e-3)[0][0]"
   ]
  },
  {
   "cell_type": "markdown",
   "metadata": {},
   "source": [
    "#### what might the temperature in the core be?"
   ]
  },
  {
   "cell_type": "code",
   "execution_count": 28,
   "metadata": {},
   "outputs": [
    {
     "name": "stdout",
     "output_type": "stream",
     "text": [
      "2.147e+07 K\n"
     ]
    }
   ],
   "source": [
    "T_C_mesa = 10**s.get('log_center_T')[MS_begin]\n",
    "print \"%.4g\" % T_C_mesa + ' K'"
   ]
  },
  {
   "cell_type": "markdown",
   "metadata": {},
   "source": [
    "#### How does this compare to the approximation derived above?"
   ]
  },
  {
   "cell_type": "code",
   "execution_count": 32,
   "metadata": {},
   "outputs": [],
   "source": [
    "G = 6.6741e-11\n",
    "k = 1.3806e-23\n",
    "m_H = 1.6737e-27\n",
    "M = mass * 1.99e30\n",
    "R = 10**s.get('log_R')[MS_begin] * 6.957e8\n"
   ]
  },
  {
   "cell_type": "code",
   "execution_count": 33,
   "metadata": {},
   "outputs": [
    {
     "name": "stdout",
     "output_type": "stream",
     "text": [
      "5.802e+06 K\n"
     ]
    }
   ],
   "source": [
    "T_C_theory = (1./5)*G*M*m_H / (k*R)\n",
    "\n",
    "print \"%.4g\" % T_C_theory + ' K'"
   ]
  },
  {
   "cell_type": "markdown",
   "metadata": {},
   "source": [
    "#### Not bad! What about the central pressure?"
   ]
  },
  {
   "cell_type": "code",
   "execution_count": 42,
   "metadata": {},
   "outputs": [
    {
     "name": "stdout",
     "output_type": "stream",
     "text": [
      "1.977e+17\n"
     ]
    }
   ],
   "source": [
    "P_C_mesa = 10**s.get('log_center_P')[MS_begin]\n",
    "print \"%.4g\" % P_C_mesa"
   ]
  },
  {
   "cell_type": "code",
   "execution_count": 43,
   "metadata": {},
   "outputs": [
    {
     "name": "stdout",
     "output_type": "stream",
     "text": [
      "8.311e+13\n"
     ]
    }
   ],
   "source": [
    "P_C_theory = (3./8)*G*(M)**2 / (np.pi * (R)**4)\n",
    "print \"%.4g\" % P_C_theory"
   ]
  },
  {
   "cell_type": "code",
   "execution_count": 41,
   "metadata": {},
   "outputs": [
    {
     "data": {
      "text/plain": [
       "{'burn_c': 59,\n",
       " 'burn_n': 60,\n",
       " 'burn_o': 61,\n",
       " 'center_c12': 50,\n",
       " 'center_h1': 48,\n",
       " 'center_he4': 49,\n",
       " 'center_mu': 46,\n",
       " 'center_o16': 51,\n",
       " 'center_ye': 47,\n",
       " 'cno': 57,\n",
       " 'conv_mx1_bot': 9,\n",
       " 'conv_mx1_top': 8,\n",
       " 'conv_mx2_bot': 11,\n",
       " 'conv_mx2_top': 10,\n",
       " 'delta_mass': 4,\n",
       " 'envelope_mass': 32,\n",
       " 'epsnuc_M_1': 16,\n",
       " 'epsnuc_M_2': 17,\n",
       " 'epsnuc_M_3': 18,\n",
       " 'epsnuc_M_4': 19,\n",
       " 'epsnuc_M_5': 20,\n",
       " 'epsnuc_M_6': 21,\n",
       " 'epsnuc_M_7': 22,\n",
       " 'epsnuc_M_8': 23,\n",
       " 'gravity': 42,\n",
       " 'h1_boundary_lgRho': 27,\n",
       " 'h1_boundary_lgT': 26,\n",
       " 'h1_boundary_mass': 24,\n",
       " 'h1_boundary_radius': 25,\n",
       " 'he4_boundary_lgRho': 31,\n",
       " 'he4_boundary_lgT': 30,\n",
       " 'he4_boundary_mass': 28,\n",
       " 'he4_boundary_radius': 29,\n",
       " 'log_L': 38,\n",
       " 'log_LH': 33,\n",
       " 'log_LHe': 34,\n",
       " 'log_LZ': 35,\n",
       " 'log_Lnuc': 36,\n",
       " 'log_R': 40,\n",
       " 'log_Teff': 39,\n",
       " 'log_abs_mdot': 5,\n",
       " 'log_center_P': 45,\n",
       " 'log_center_Rho': 44,\n",
       " 'log_center_T': 43,\n",
       " 'log_dt': 6,\n",
       " 'log_g': 41,\n",
       " 'luminosity': 37,\n",
       " 'model_number': 1,\n",
       " 'mx1_bot': 13,\n",
       " 'mx1_top': 12,\n",
       " 'mx2_bot': 15,\n",
       " 'mx2_top': 14,\n",
       " 'num_backups': 64,\n",
       " 'num_retries': 63,\n",
       " 'num_zones': 7,\n",
       " 'pp': 56,\n",
       " 'star_age': 2,\n",
       " 'star_mass': 3,\n",
       " 'surface_c12': 52,\n",
       " 'surface_o16': 53,\n",
       " 'total_mass_h1': 54,\n",
       " 'total_mass_he4': 55,\n",
       " 'tri_alfa': 58,\n",
       " 'v_div_csound_surf': 62}"
      ]
     },
     "execution_count": 41,
     "metadata": {},
     "output_type": "execute_result"
    }
   ],
   "source": [
    "pt=mp.se(mass=mass,Z=Z)\n",
    "pt.get('rho_unit')"
   ]
  },
  {
   "cell_type": "code",
   "execution_count": null,
   "metadata": {
    "collapsed": true
   },
   "outputs": [],
   "source": []
  }
 ],
 "metadata": {
  "kernelspec": {
   "display_name": "Python 2",
   "language": "python",
   "name": "python2"
  },
  "language_info": {
   "codemirror_mode": {
    "name": "ipython",
    "version": 2
   },
   "file_extension": ".py",
   "mimetype": "text/x-python",
   "name": "python",
   "nbconvert_exporter": "python",
   "pygments_lexer": "ipython2",
   "version": "2.7.12"
  }
 },
 "nbformat": 4,
 "nbformat_minor": 1
}
