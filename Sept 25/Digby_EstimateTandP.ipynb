{
 "cells": [
  {
   "cell_type": "markdown",
   "metadata": {},
   "source": [
    "# 27 Sept: Estimate Central T and P\n",
    "\n",
    "Estimate T_central and P_central from M, R for a MS star  \n",
    "What T corresponds to 30keV?  \n",
    "What it the typical nucleosynthetic burning regime that this energy corresponds to?"
   ]
  },
  {
   "cell_type": "markdown",
   "metadata": {},
   "source": [
    "### Assumptions: \n",
    "* ideal gas\n",
    "* hydrostatic equilibrium\n",
    "* spherical symmetry"
   ]
  },
  {
   "cell_type": "markdown",
   "metadata": {},
   "source": [
    "### Estimate central T,P from M,R"
   ]
  },
  {
   "cell_type": "markdown",
   "metadata": {},
   "source": [
    "#### Method 1: Assume $\\rho \\neq \\rho(r)$\n",
    "This is NOT a good assumption at all, but it is somewhere to start."
   ]
  },
  {
   "cell_type": "markdown",
   "metadata": {},
   "source": [
    "HSE: $dP = -\\rho g dr$\n",
    "* $P_c = \\int_{P(r=R)}^{P(r=0)}dP = \\int_0^R \\rho(r)gdr = \\int_0^R \\rho(r) \\frac{GM(<r)}{r^2} dr$\n",
    "* $M(<r) = \\frac{4}{3}\\pi r^3 \\rho = \\frac{4}{3}\\pi r^3 \\frac{M_*}{\\frac{4}{3}\\pi R^3} = \\left(\\frac{r}{R}\\right)^3 M_*$\n",
    "* $P_c = \\frac{\\rho GM_*}{R^3} \\int_0^R rdR$\n",
    "* $P_c = \\frac{\\rho GM_*}{2R}$"
   ]
  },
  {
   "cell_type": "markdown",
   "metadata": {},
   "source": [
    "EoS: $PV=NkT$\n",
    "* Not using R=k/mH to avoid confusion with radius\n",
    "* $P=\\frac{1}{V} \\frac{M}{\\mu m_H}kT = \\frac{\\rho k}{\\mu m_H}T$"
   ]
  },
  {
   "cell_type": "markdown",
   "metadata": {},
   "source": [
    "Combine HSE and EoS:\n",
    "* $\\frac{\\rho GM_*}{2R} = \\frac{\\rho k}{\\mu m_H}T_c$\n",
    "* $T_C = \\frac{\\mu m_H GM_*}{2kR}$\n",
    "* $T_c \\sim 7\\cdot 10^6 K$ for the sun, assuming $\\mu=0.6$"
   ]
  },
  {
   "cell_type": "markdown",
   "metadata": {},
   "source": [
    "###  Relate energy and temperature"
   ]
  },
  {
   "cell_type": "markdown",
   "metadata": {},
   "source": [
    "General relationship for monatomic ideal gas:\n",
    "* $<E>=\\frac{3}{2}kT$\n",
    "* $E_c = \\frac{3}{2}kT_c \\sim 136eV$"
   ]
  },
  {
   "cell_type": "markdown",
   "metadata": {},
   "source": [
    "Temperature corresponding to 30keV: \n",
    "* $T(30keV)\\sim 2.3\\cdot 10^8K$\n",
    "* He burning (triple-$\\alpha$) occurs at $\\sim 10^8K$"
   ]
  },
  {
   "cell_type": "code",
   "execution_count": null,
   "metadata": {
    "collapsed": true
   },
   "outputs": [],
   "source": []
  }
 ],
 "metadata": {
  "kernelspec": {
   "display_name": "Python 2",
   "language": "python",
   "name": "python2"
  },
  "language_info": {
   "codemirror_mode": {
    "name": "ipython",
    "version": 2
   },
   "file_extension": ".py",
   "mimetype": "text/x-python",
   "name": "python",
   "nbconvert_exporter": "python",
   "pygments_lexer": "ipython2",
   "version": "2.7.12"
  }
 },
 "nbformat": 4,
 "nbformat_minor": 2
}
