{
 "cells": [
  {
   "cell_type": "markdown",
   "metadata": {
    "slideshow": {
     "slide_type": "slide"
    }
   },
   "source": [
    "# Nucleosynthesis in a 2M$_{\\odot}$ He-Flash Pulse Driven Convection Zone"
   ]
  },
  {
   "cell_type": "markdown",
   "metadata": {
    "slideshow": {
     "slide_type": "slide"
    }
   },
   "source": [
    "# Outline"
   ]
  },
  {
   "cell_type": "markdown",
   "metadata": {
    "slideshow": {
     "slide_type": "fragment"
    }
   },
   "source": [
    "* **Background Information**\n",
    "    * 2M$_{\\odot}$ AGB Kippenhahn Diagram\n",
    "    * $^{13}$C Pocket Nucleosynthesis\n",
    "    * SiC Pre-solar Grains $^{96}$Zr / $^{94}$Zr and the $^{95}$Zr Branching\n",
    "    * $^{128}$Xe / $^{130}$Xe and the $^{127}$I Branching  "
   ]
  },
  {
   "cell_type": "markdown",
   "metadata": {
    "slideshow": {
     "slide_type": "fragment"
    }
   },
   "source": [
    "* **Diffusion Coefficient Changes and Motivation**\n",
    "    * Mixing Equation\n",
    "    * Peak Neutron Densities, Temperature and $^{22}$Ne($\\alpha , n$)$^{25}$Mg\n",
    "    * Hydro Diffusion Coefficient (Jones)\n",
    "    * Convective Time Scale"
   ]
  },
  {
   "cell_type": "markdown",
   "metadata": {
    "slideshow": {
     "slide_type": "fragment"
    }
   },
   "source": [
    "* **Results**\n",
    "    * Jones Diffusion - Subtime 100\n",
    "    * Modified Jones Diffusion"
   ]
  },
  {
   "cell_type": "markdown",
   "metadata": {
    "slideshow": {
     "slide_type": "slide"
    }
   },
   "source": [
    "# 2M$_{\\odot}$ AGB Kippenhahn Diagram\n",
    "\n",
    "Red dots represent the convection zone boundaries. The He-flash pulse driven convection zone is underneath the H-shell convection zone which can transport material to the surface of the star.\n",
    "![title](2M_Kippenhahn.png)"
   ]
  },
  {
   "cell_type": "markdown",
   "metadata": {
    "slideshow": {
     "slide_type": "slide"
    }
   },
   "source": [
    "# $^{13}$C Pocket Nucleosynthesis\n",
    "\n",
    "The $^{13}$C pocket forms in the He intershell region and the s-process occurs due to the $^{13}C(\\alpha,n)^{16}O$ reaction. This boosts the $^{94}$Zr and $^{96}$Zr mass fractions significantly. This will be diluted once the He-flash pulse driven convection zone occurs.\n",
    "\n",
    "![title](C13 Pocket.png)"
   ]
  },
  {
   "cell_type": "markdown",
   "metadata": {
    "slideshow": {
     "slide_type": "slide"
    }
   },
   "source": [
    "# SiC Pre-solar Grains $^{96}$Zr / $^{94}$Zr and the $^{95}$Zr Branching\n",
    "\n",
    "* Measurements of $^{96}$Zr / $^{94}$Zr taken from pre solar SiC grains by Barzyk et al. (2007) and compared with AGB models from Battino et al. (2016)\n",
    "* SiC grains only form in conditions with C/O ~ 1, consistent with AGB envelope\n",
    "* Uses $\\delta(^{96}Zr/^{94}Zr)$ to represent results, defined as:\n",
    "* $\\delta(^{96}Zr/^{94}Zr) = [(\\frac{^{96}Zr}{^{94}Zr}) / (\\frac{^{96}Zr_{\\odot}}{^{94}Zr_{\\odot}}) - 1] \\times 1000$\n"
   ]
  },
  {
   "cell_type": "markdown",
   "metadata": {
    "slideshow": {
     "slide_type": "subslide"
    }
   },
   "source": [
    "![title](Zr94.png)\n",
    "(Battino et al. (2016))\n",
    "\n",
    "\n",
    "* These are taken ratios in the AGB envelope\n",
    "* The ratio is not low enough for $(\\frac{^{96}Zr}{^{94}Zr}) / (\\frac{^{96}Zr_{\\odot}}{^{94}Zr_{\\odot}})$ meaning too much $^{96}$Zr is produced in 2M$_{\\odot}$ and 3M$_{\\odot}$ AGB stars to match these observations"
   ]
  },
  {
   "cell_type": "markdown",
   "metadata": {
    "slideshow": {
     "slide_type": "subslide"
    }
   },
   "source": [
    "![title](Zr95_branch.png)\n",
    "\n",
    "* $^{95}$Zr has half life of 64 days and then $\\beta^{-}$ decays to $^{95}$Nb\n",
    "* To open the branch such that significant $^{96}$Zr can be made from $^{94}$Zr requires N$_{n}$ ~ 5 X 10$^{8}$ cm$^{-3}$ (Battino et al. (2016))\n"
   ]
  },
  {
   "cell_type": "markdown",
   "metadata": {
    "slideshow": {
     "slide_type": "slide"
    }
   },
   "source": [
    "# $^{128}$Xe / $^{130}$Xe and the $^{127}$I Branching  \n",
    "\n",
    "![title](xe.png)\n",
    "(Reifarth et al  (2004))\n",
    "\n",
    "* $^{128}$I either $\\beta^{-}$ decays to $^{128}$Xe or $\\beta^{+}$ decays to $^{128}$Te. This process is very sensitive to temperature with higher temperatures leading to more $\\beta^{+}$ decays and lowers the $^{128}$Xe / $^{130}$Xe ratio due to the high neutron densities. The ratio of the two is not sensitive to the pulse driven convection zones neutron density environment"
   ]
  },
  {
   "cell_type": "markdown",
   "metadata": {
    "slideshow": {
     "slide_type": "slide"
    }
   },
   "source": [
    "# Data Used\n",
    "\n",
    "For all of the analysis that is done, a ZAMS 2M$_{\\odot}$ stellar model with solar metallicty (Z = 0.02), is used. The stellar models that were used were taken from the set1ext, set1.2, data from NuGrid (Ritter et al., 2017) which were computed using the MESA (Paxton et al., 2011) stellar evolution code. The nucleosynthesis was computed with the NuGrid mppnp code."
   ]
  },
  {
   "cell_type": "markdown",
   "metadata": {
    "slideshow": {
     "slide_type": "slide"
    }
   },
   "source": [
    "# Mixing Equation\n",
    "\n",
    "The mass fraction of a species, X$_{i}$, can change over time from nuclear reactions as well from a mixing component if it is within a convection zone. The rate of change of the mass fraction of a species X$_{i}$:\n",
    "\n",
    "$\\frac{d\\mathbf{X_{i}}}{dt} = \\left. \\frac{d\\mathbf{X_{i}}}{dt} \\right \\rvert_{burn} + \\left. \\frac{d\\mathbf{X_{i}}}{dt} \\right \\rvert_{mix}$\n",
    "\n",
    "The mixing is approximated as a diffusive process with a diffusion coefficient, D(m). Then:\n",
    "\n",
    "$\\left. \\frac{d\\mathbf{X_{i}}}{dt} \\right \\rvert_{mix} = \\frac{\\partial}{\\partial m} [(4\\pi r^{2} \\rho)^{2} D(m) \\frac{d\\mathbf{X_{i}}}{dm}]$\n",
    "\n",
    "There are mass fractions, X$_{i}$, for every species and every mass coordinate in the star. "
   ]
  },
  {
   "cell_type": "markdown",
   "metadata": {
    "slideshow": {
     "slide_type": "slide"
    }
   },
   "source": [
    "# Peak Neutron Densities, Temperature and $^{22}$Ne($\\alpha , n$)$^{25}$Mg\n",
    "\n",
    "The $^{22}$Ne($\\alpha , n$)$^{25}$Mg reaction is sensitive to the temperature. It becomes important close to T$_{8} \\approx$ 2.7. There is a short burst of neutrons that averages with a number density of 10$^{9}$ cm$^{-3}$ \n",
    "\n",
    "![title](Neutron_Density_Time.png)"
   ]
  },
  {
   "cell_type": "markdown",
   "metadata": {
    "slideshow": {
     "slide_type": "subslide"
    }
   },
   "source": [
    "As a function of mass coordinate, the temperature peaks near the convective boundary (Schwarzschild), and drops off significantly. This is where the $^{22}$Ne($\\alpha , n$)$^{25}$Mg reaction peaks.\n",
    "\n",
    "![title](T_Neutron.png)"
   ]
  },
  {
   "cell_type": "markdown",
   "metadata": {
    "slideshow": {
     "slide_type": "slide"
    }
   },
   "source": [
    "# $^{25}$Mg Production\n",
    "\n",
    "* Define the average $^{25}$Mg production as:\n",
    "($^{25}$Mg$_{i}$ - $^{25}$Mg$_{0}$) / $^{25}$Mg$_{0}$\n",
    "\n",
    "![title](mesa_production.png)"
   ]
  },
  {
   "cell_type": "markdown",
   "metadata": {
    "slideshow": {
     "slide_type": "slide"
    }
   },
   "source": [
    "# Hydro Diffusion Coefficient (Jones)\n",
    "\n",
    "* The project I undertook was to see if a hydro inspired diffusion coefficient would lower the number density of neutrons such that $^{95}$Zr would undergo $^{95}Zr(\\beta^{-})^{95}Nb$ rather than a neutron capture.\n",
    "\n",
    "\n",
    "* With hydro considerations the diffusion coefficient, when compared with what MESA (MLT) predicts, will fall off quicker towards the convective boundaries. This would mean any $^{22}$Ne at the high T boundary would undergo $^{22}$Ne($\\alpha , n$)$^{25}$Mg and not be as replenished from the diffusion of fresh $^{22}$Ne throughout the convection zone.\n",
    "\n",
    "\n",
    "* The diffusion coefficient recommended from hydro simulations in Jones et al., (2017) is a slight modification to the diffusion coefficient from MLT.\n",
    "\n",
    "D$_{MLT}$ = $\\frac{1}{3} v_{MLT} \\alpha H_{p}$\n",
    "\n",
    "D$_{Jones}$ = $v_{MLT}$ min$(\\alpha H_{p}, |r - r_{0}|)$"
   ]
  },
  {
   "cell_type": "markdown",
   "metadata": {
    "slideshow": {
     "slide_type": "subslide"
    }
   },
   "source": [
    "![title](Diffusion_compare.png)\n",
    "\n",
    "* The hydro diffusion coefficient is approximately one order of magnitude lower close to the convective boundaries. This is especially important at the lower boundary where temperatures are high enough for  $^{22}$Ne($\\alpha , n$)$^{25}$Mg reactions"
   ]
  },
  {
   "cell_type": "markdown",
   "metadata": {
    "slideshow": {
     "slide_type": "slide"
    }
   },
   "source": [
    "# Convective Time Scale\n",
    "\n",
    "* The effects of the diffusion coefficient are not supposed to be drastic. To notice the effects of less $^{22}$Ne material being replenished to the burning zone near the convective boundary the convection needs to be resolved.\n",
    "\n",
    "\n",
    "* The convective time scale, $\\tau_{conv} \\approx (\\alpha H_{p}) / v_{MLT}$\n",
    "\n",
    "\n",
    "* For the conditions in the He-flash pulse driven convection zone, the time scale is ~ hours"
   ]
  },
  {
   "cell_type": "markdown",
   "metadata": {
    "slideshow": {
     "slide_type": "subslide"
    }
   },
   "source": [
    "![title](Time scale.png)\n",
    "\n",
    "* The amount of subtime stepping from the MESA model steps in order to resolve a convective time scale averages close to 100\n",
    "\n",
    "* This cannot be run with mppnp over all models, so only 100 models are used near the highest temperatures"
   ]
  },
  {
   "cell_type": "markdown",
   "metadata": {
    "slideshow": {
     "slide_type": "subslide"
    }
   },
   "source": [
    "# Test of Convergence\n",
    "\n",
    "![title](T_Neutron_sub.png)\n",
    "\n",
    "* There are moderate changes in the neutron number density between the different amounts of subtime stepping in the MESA model"
   ]
  },
  {
   "cell_type": "markdown",
   "metadata": {
    "slideshow": {
     "slide_type": "slide"
    }
   },
   "source": [
    "# Jones Diffusion - Subtime 100\n",
    "\n",
    "* The subtime steps were taken from models "
   ]
  },
  {
   "cell_type": "markdown",
   "metadata": {
    "slideshow": {
     "slide_type": "slide"
    }
   },
   "source": [
    "# Bibliography\n",
    "\n",
    "Barzyk, J. G., Savina, M. R., Davis, A. M., et al. 2006, NewAR, 50, 587\n",
    "\n",
    "\n",
    "Battino, U., Pignatari, M., Ritter, C., Herwig, F., Denisenkov, P., Den Hartogh, J. W.,\n",
    "Trappitsch, R., Hirschi, R., Freytag, B., Thielemann, F., and Paxton, B. (2016). Applica-\n",
    "tion of a Theory and Simulation-based Convective Boundary Mixing Model for AGB Star\n",
    "Evolution and Nucleosynthesis. , 827:30.\n",
    "\n",
    "\n",
    "Jones, S., Andrassy, R., Sandalski, S., Davis, A., Woodward, P., and Herwig, F. (2017).\n",
    "Idealized hydrodynamic simulations of turbulent oxygen-burning shell convection in 4π\n",
    "geometry. , 465:2991–3010.\n",
    "\n",
    "\n",
    "Paxton, B., Bildsten, L., Dotter, A., Herwig, F., Lesaffre, P., and Timmes, F. (2011). Mod-\n",
    "ules for Experiments in Stellar Astrophysics (MESA). , 192:3.\n",
    "\n",
    "Reifarth, R., Käppeler, F., Voss, F., Wisshak, K., Gallino, R., Pignatari, M., and Straniero,\n",
    "O. (2004). 128 Xe and 130 Xe: Testing He-Shell Burning in Asymptotic Giant Branch Stars.\n",
    ", 614:363–370.\n",
    "\n",
    "\n",
    "Ritter, C., Herwig, F., Jones, S., Pignatari, M., Fryer, C., and Hirschi, R. (2017). NuGrid\n",
    "Stellar Data Set. II. Stellar Yields from H to Bi for Stellar Models with Mzams = 1 to\n",
    "25Msun and Z = 0.0001 to 0.02. ArXiv e-prints."
   ]
  },
  {
   "cell_type": "code",
   "execution_count": null,
   "metadata": {},
   "outputs": [],
   "source": []
  }
 ],
 "metadata": {
  "celltoolbar": "Slideshow",
  "kernelspec": {
   "display_name": "Python 3",
   "language": "python",
   "name": "python3"
  },
  "language_info": {
   "codemirror_mode": {
    "name": "ipython",
    "version": 3
   },
   "file_extension": ".py",
   "mimetype": "text/x-python",
   "name": "python",
   "nbconvert_exporter": "python",
   "pygments_lexer": "ipython3",
   "version": "3.5.2"
  }
 },
 "nbformat": 4,
 "nbformat_minor": 2
}
