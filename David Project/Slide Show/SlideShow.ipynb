{
 "cells": [
  {
   "cell_type": "markdown",
   "metadata": {
    "slideshow": {
     "slide_type": "slide"
    }
   },
   "source": [
    "# Nucleosynthesis in a 2M$_{\\odot}$ He-Flash Pulse Driven Convection Zone"
   ]
  },
  {
   "cell_type": "markdown",
   "metadata": {
    "slideshow": {
     "slide_type": "slide"
    }
   },
   "source": [
    "# Outline"
   ]
  },
  {
   "cell_type": "markdown",
   "metadata": {
    "slideshow": {
     "slide_type": "fragment"
    }
   },
   "source": [
    "* **Background Information**\n",
    "    * 2M$_{\\odot}$ AGB Kippenhahn Diagram\n",
    "    * $^{13}$C Pocket Nucleosynthesis, and Dilution Through He-Flash Pulse Driven Convection Zone\n",
    "    * SiC Pre-solar Grains $^{96}$Zr / $^{94}$Zr and the $^{95}$Zr Branching\n",
    "    * $^{128}$Xe / $^{130}$Xe and the $^{127}$I Branching  "
   ]
  },
  {
   "cell_type": "markdown",
   "metadata": {
    "slideshow": {
     "slide_type": "fragment"
    }
   },
   "source": [
    "* **Diffusion Coefficient Changes and Motivation**\n",
    "    * Mixing Equation\n",
    "    * Peak Neutron Densities, Temperature and $^{22}$Ne($\\alpha , n$)$^{25}$Mg\n",
    "    * Hydro Diffusion Coefficient (Jones)\n",
    "    * MESA Diffusion Coefficient and Jones Modifications\n",
    "    * Convective Time Scale"
   ]
  },
  {
   "cell_type": "markdown",
   "metadata": {
    "slideshow": {
     "slide_type": "fragment"
    }
   },
   "source": [
    "* **Results**\n",
    "    * "
   ]
  },
  {
   "cell_type": "markdown",
   "metadata": {
    "slideshow": {
     "slide_type": "slide"
    }
   },
   "source": [
    "# 2M$_{\\odot}$ AGB Kippenhahn Diagram\n",
    "\n",
    "Red dots represent the convection zone boundaries. The He-flash pulse driven convection zone is underneath the H-shell convection zone which can transport material to the surface of the star.\n",
    "![title](2M Kippenhahn.png)"
   ]
  },
  {
   "cell_type": "markdown",
   "metadata": {
    "slideshow": {
     "slide_type": "slide"
    }
   },
   "source": [
    "# SiC Pre-solar Grains $^{96}$Zr / $^{94}$Zr and the $^{95}$Zr Branching\n",
    "\n",
    "* Measurements of $^{96}$Zr / $^{94}$Zr taken from pre solar SiC grains by Barzyk et al. (2007) and compared with AGB models from Battino et al. (2016)\n",
    "* SiC grains only form in conditions with C/O ~ 1, consistent with AGB envelope\n",
    "* Uses $\\delta(^{96}Zr/^{94}Zr)$ to represent results, defined as:\n",
    "* $\\delta(^{96}Zr/^{94}Zr) = [(\\frac{^{96}Zr}{^{94}Zr}) / (\\frac{^{96}Zr_{\\odot}}{^{94}Zr_{\\odot}}) - 1] \\times 1000$\n"
   ]
  },
  {
   "cell_type": "markdown",
   "metadata": {
    "slideshow": {
     "slide_type": "subslide"
    }
   },
   "source": [
    "![title](Zr94.png)\n",
    "\n",
    "* These are taken ratios in the AGB envelope\n",
    "* The ratio is not low enough for $(\\frac{^{96}Zr}{^{94}Zr}) / (\\frac{^{96}Zr_{\\odot}}{^{94}Zr_{\\odot}})$ meaning too much $^{96}$Zr is produced in 2M$_{\\odot}$ and 3M$_{\\odot}$ AGB stars to match these observations"
   ]
  },
  {
   "cell_type": "markdown",
   "metadata": {
    "slideshow": {
     "slide_type": "slide"
    }
   },
   "source": [
    "![title](Zr95_branch.png)\n",
    "\n",
    "* $^{95}$Zr has half life of 64 days and then $\\beta^{-}$ decays to $^{95}$Nb\n",
    "* To open the branch such that significant $^{96}$Zr can be made from $^{94}$Zr requires N$_{n}$ ~ 5 X 10$^{8}$ cm$^{-3}$ (Battino et al. (2016))\n"
   ]
  },
  {
   "cell_type": "markdown",
   "metadata": {
    "slideshow": {
     "slide_type": "slide"
    }
   },
   "source": [
    "# Data Used\n",
    "\n",
    "For all of the analysis that is done, a ZAMS 2M$_{\\odot}$ stellar model with solar metallicty (Z = 0.02), is used. The stellar models that were used were taken from the set1ext, set1.2, data from NuGrid (Ritter et al., 2017) which were computed using the MESA (Paxton et al., 2011) stellar evolution code. The nucleosynthesis was computed with the NuGrid mppnp code."
   ]
  },
  {
   "cell_type": "markdown",
   "metadata": {
    "slideshow": {
     "slide_type": "slide"
    }
   },
   "source": [
    "# Mixing Equation\n",
    "\n",
    "The mass fraction of a species, X$_{i}$, can change over time from nuclear reactions as well from a mixing component if it is within a convection zone. The rate of change of the mass fraction of a species X$_{i}$:\n",
    "\n",
    "$\\frac{d\\mathbf{X_{i}}}{dt} = \\left. \\frac{d\\mathbf{X_{i}}}{dt} \\right \\rvert_{burn} + \\left. \\frac{d\\mathbf{X_{i}}}{dt} \\right \\rvert_{mix}$\n",
    "\n",
    "The mixing is approximated as a diffusive process with a diffusion coefficient, D(m). Then:\n",
    "\n",
    "$\\left. \\frac{d\\mathbf{X_{i}}}{dt} \\right \\rvert_{mix} = \\frac{\\partial}{\\partial m} [(4\\pi r^{2} \\rho)^{2} D(m) \\frac{d\\mathbf{X_{i}}}{dm}]$\n",
    "\n",
    "There are mass fractions, X$_{i}$, for every species and every mass coordinate in the star. "
   ]
  },
  {
   "cell_type": "markdown",
   "metadata": {
    "slideshow": {
     "slide_type": "slide"
    }
   },
   "source": [
    "# Peak Neutron Densities, Temperature and $^{22}$Ne($\\alpha , n$)$^{25}$Mg\n",
    "\n",
    "The $^{22}$Ne($\\alpha , n$)$^{25}$Mg reaction is very sensitive to temperature and requires temperatures of T$_{8}$ ~ 2.7 to be activated. \n"
   ]
  },
  {
   "cell_type": "code",
   "execution_count": null,
   "metadata": {},
   "outputs": [],
   "source": []
  }
 ],
 "metadata": {
  "celltoolbar": "Slideshow",
  "kernelspec": {
   "display_name": "Python 3",
   "language": "python",
   "name": "python3"
  },
  "language_info": {
   "codemirror_mode": {
    "name": "ipython",
    "version": 3
   },
   "file_extension": ".py",
   "mimetype": "text/x-python",
   "name": "python",
   "nbconvert_exporter": "python",
   "pygments_lexer": "ipython3",
   "version": "3.5.2"
  }
 },
 "nbformat": 4,
 "nbformat_minor": 2
}
