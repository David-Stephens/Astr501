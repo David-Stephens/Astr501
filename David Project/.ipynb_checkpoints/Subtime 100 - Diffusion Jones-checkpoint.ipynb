{
 "cells": [
  {
   "cell_type": "code",
   "execution_count": 1,
   "metadata": {},
   "outputs": [
    {
     "name": "stdout",
     "output_type": "stream",
     "text": [
      "Using matplotlib backend: nbAgg\n",
      "Populating the interactive namespace from numpy and matplotlib\n"
     ]
    }
   ],
   "source": [
    "%pylab \n",
    "from nugridpy import nugridse as mp\n",
    "from nugridpy import mesa as ms\n",
    "import matplotlib.pyplot as plt\n",
    "\n",
    "# import h5py to read se h5 files properly?\n",
    "import h5py\n",
    "\n",
    "# for plotting consistently with abu_profile\n",
    "from nugridpy import utils as u\n",
    "\n",
    "data_dir=\"/data/nugrid_apod2\"    \n",
    "\n",
    "ms.set_nugrid_path(data_dir)\n",
    "mp.set_nugrid_path(data_dir)"
   ]
  },
  {
   "cell_type": "markdown",
   "metadata": {},
   "source": [
    "## Define Useful Functions"
   ]
  },
  {
   "cell_type": "code",
   "execution_count": null,
   "metadata": {},
   "outputs": [],
   "source": [
    "# define a function to use an iso_massf, isotope list and grab those data arrays\n",
    "def find_iso(iso_massf,isotope_list,species_find):\n",
    "    \n",
    "    # isotope list contains all isotopes and species_fin contains what I'm looking for\n",
    "    # find indices corresponding to species list\n",
    "    iso_index = []\n",
    "    for i in range(len(species_find)):\n",
    "        for p in range(len(isotope_list)):\n",
    "            if species_find[i] == isotope_list[p]:\n",
    "                iso_index.append(p)\n",
    "                break\n",
    "    \n",
    "    # create a list which will slice iso_massf\n",
    "    iso_out = []\n",
    "    for i in range(len(iso_index)):\n",
    "        iso_out.append(iso_massf[:,iso_index[i]])\n",
    "    \n",
    "    # return iso_out\n",
    "    return iso_out\n",
    "\n",
    "# define function to get a 'quantity' for an h5py file of a given cycle/model number\n",
    "def h5_quantity(h5_file,cycle,quantity):\n",
    "    \n",
    "    # quantity is a string which is the data I am looking for\n",
    "    # cycle string format\n",
    "    cycle_string = 'cycle00000' + str(int(cycle))\n",
    "    data = h5_file[cycle_string]['SE_DATASET'][quantity]\n",
    "    \n",
    "    return data\n",
    "\n",
    "# place in an array of mass quantities, look for [mass_find] and return mass_index\n",
    "def find_mass_index(mass,mass_find):\n",
    "    \n",
    "    # mass is a singular mass array, need to find mass_find, may be multiple\n",
    "    mass_index = []\n",
    "    for i in range(len(mass_find)):\n",
    "        mass_index.append(int(np.argmin(abs(mass - mass_find[i]))))\n",
    "        \n",
    "    # return the list\n",
    "    return mass_index\n",
    "\n",
    "# function to find a specific models schwarzschild boundaries in indices\n",
    "def mass_bounds(star,model,mass):\n",
    "    \n",
    "    # WORKING WITH MODEL #, NEED TO USE PYTHON SLICING THOUGH\n",
    "    # get the boundaries of mass for the convection zone\n",
    "    star_mass = star.get('star_mass')[model-1]\n",
    "    mix_bot = star.get('mx2_bot')[model-1] * star_mass\n",
    "    mix_top = star.get('mx2_top')[model-1] * star_mass\n",
    "    \n",
    "    # find indices\n",
    "    schwarz = []\n",
    "    schwarz.append(int(np.argmin(abs(mass - mix_bot))))\n",
    "    schwarz.append(int(np.argmin(abs(mass - mix_top))))\n",
    "    \n",
    "    # return\n",
    "    return schwarz\n",
    "\n",
    "    # function to find the maximum extent of convection zone as well as the average extent\n",
    "def avg_mass_bounds(star,model_range):\n",
    "    # just need the star objects, and the model range that the convection zone is contained in\n",
    "\n",
    "    # get the mass ranges of convection boundary\n",
    "    star_mass = star.get('star_mass')[model_range[0]:model_range[1]]\n",
    "    mix_low = star.get('mx2_bot')[model_range[0]:model_range[1]]\n",
    "    mix_high = star.get('mx2_top')[model_range[0]:model_range[1]]\n",
    "    \n",
    "    # find where they are zero or not\n",
    "    convection_bounds = []\n",
    "    for i in range(len(star_mass) - 1):\n",
    "        \n",
    "        # make sure that there is convection and that the next element doesnt stop\n",
    "        if mix_low[i] >= 1e-9 and mix_low[i+1] >= 1e-9:\n",
    "            convection_bounds.append(i)\n",
    "            \n",
    "    # slice the arrays to the appropriate size\n",
    "    star_mass = star_mass[convection_bounds[0]:(convection_bounds[-1] + 1)]\n",
    "    mix_low = mix_low[convection_bounds[0]:(convection_bounds[-1] + 1)] * star_mass\n",
    "    mix_high = mix_high[convection_bounds[0]:(convection_bounds[-1] + 1)] * star_mass\n",
    "    \n",
    "    # make sure that if there\n",
    "    \n",
    "    # return the max convection bounds as well as average AND new model range\n",
    "    max_bounds = [min(mix_low),max(mix_high)]\n",
    "    avg_bounds = [np.mean(mix_low),np.mean(mix_high)]\n",
    "    model_range = [model_range[0] + convection_bounds[0], model_range[0] + convection_bounds[-1]]\n",
    "    \n",
    "    return max_bounds, avg_bounds, model_range"
   ]
  },
  {
   "cell_type": "code",
   "execution_count": null,
   "metadata": {},
   "outputs": [],
   "source": [
    "# read in the data using nugridse\n",
    "path0 = '/user/ast501/dstephens/mppnp/diffusion_changes/diffusion_jones/mppnp_subtime_0/H5_out/'\n",
    "path100 = '/user/ast501/dstephens/mppnp/diffusion_changes/diffusion_jones/mppnp_subtime_100/H5_out/'\n",
    "\n",
    "star0_pp = mp.se(path0)\n",
    "star100_pp = mp.se(path100)"
   ]
  },
  {
   "cell_type": "code",
   "execution_count": null,
   "metadata": {},
   "outputs": [],
   "source": [
    "# get the iso_massf for each and look at species list\n",
    "species = ['Ne-22','Mg-25','Zr-94','Zr-96']\n",
    "\n",
    "# get the isotope list and iso_massf data for each\n",
    "isotopes = star0_pp.se.isotopes\n",
    "model = 53880\n",
    "\n",
    "iso_massf0 = find_iso(star0_pp.get(model,'iso_massf'),isotopes,species)\n",
    "iso_massf100 = find_iso(star100_pp.get(model,'iso_massf'),isotopes,species)\n",
    "\n",
    "# take the ratio of the two \n",
    "iso_ratio = np.log10(iso_massf100 / iso_massf0)"
   ]
  },
  {
   "cell_type": "code",
   "execution_count": null,
   "metadata": {},
   "outputs": [],
   "source": [
    "# make the plot, get the average convection boundaries\n",
    "max_bounds, avg_bounds, model_range = avg_mass_bounds()"
   ]
  }
 ],
 "metadata": {
  "kernelspec": {
   "display_name": "Python 3",
   "language": "python",
   "name": "python3"
  },
  "language_info": {
   "codemirror_mode": {
    "name": "ipython",
    "version": 3
   },
   "file_extension": ".py",
   "mimetype": "text/x-python",
   "name": "python",
   "nbconvert_exporter": "python",
   "pygments_lexer": "ipython3",
   "version": "3.5.2"
  }
 },
 "nbformat": 4,
 "nbformat_minor": 2
}
