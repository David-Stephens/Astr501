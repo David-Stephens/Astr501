{
 "cells": [
  {
   "cell_type": "code",
   "execution_count": 1,
   "metadata": {},
   "outputs": [
    {
     "name": "stdout",
     "output_type": "stream",
     "text": [
      "Using matplotlib backend: nbAgg\n",
      "Populating the interactive namespace from numpy and matplotlib\n"
     ]
    }
   ],
   "source": [
    "%pylab \n",
    "from nugridpy import nugridse as mp\n",
    "from nugridpy import mesa as ms\n",
    "import matplotlib.pyplot as plt\n",
    "\n",
    "# use h5py to read and write h5 file\n",
    "import h5py\n",
    "\n",
    "data_dir=\"/data/nugrid_apod2\"    \n",
    "\n",
    "ms.set_nugrid_path(data_dir)\n",
    "mp.set_nugrid_path(data_dir)"
   ]
  },
  {
   "cell_type": "code",
   "execution_count": 2,
   "metadata": {},
   "outputs": [
    {
     "name": "stdout",
     "output_type": "stream",
     "text": [
      "Searching files, please wait.......\n",
      "Reading preprocessor files\n",
      "File search complete.\n"
     ]
    }
   ],
   "source": [
    "# grab post processing star data for a particular cycle, 34000 (try to rewrite, so use a copy of real data)\n",
    "path_real = '/data/nugrid_apod2/data/set1ext/set1.2/see_wind/M2.00Z2.0e-02/M2.00Z0.020/'\n",
    "path = '/user/ast501/dstephens/mppnp/SE File Rewrite Tests/'\n",
    "star3_pp = mp.se(path)"
   ]
  },
  {
   "cell_type": "code",
   "execution_count": 70,
   "metadata": {},
   "outputs": [
    {
     "name": "stdout",
     "output_type": "stream",
     "text": [
      "\r",
      " reading ['mass']...100%"
     ]
    },
    {
     "data": {
      "text/plain": [
       "array([  1.90841458e+00,   1.90841458e+00,   1.90841458e+00, ...,\n",
       "         4.68693244e-07,   2.37908008e-07,   8.16821656e-08])"
      ]
     },
     "execution_count": 70,
     "metadata": {},
     "output_type": "execute_result"
    }
   ],
   "source": [
    "# type of data we have\n",
    "star3_pp.se.get(33999,'mass')"
   ]
  },
  {
   "cell_type": "code",
   "execution_count": 4,
   "metadata": {},
   "outputs": [],
   "source": [
    "# what cycles do we have?\n",
    "cycles = star3_pp.se.cycles"
   ]
  },
  {
   "cell_type": "code",
   "execution_count": 78,
   "metadata": {},
   "outputs": [],
   "source": [
    "data_rewrite = h5py.File(path + 'M2.00Z0.020.0034001.se.h5','r+')"
   ]
  },
  {
   "cell_type": "code",
   "execution_count": 80,
   "metadata": {},
   "outputs": [],
   "source": [
    "mass = data_rewrite['cycle0000034001']['SE_DATASET']['mass']"
   ]
  },
  {
   "cell_type": "code",
   "execution_count": 81,
   "metadata": {},
   "outputs": [
    {
     "data": {
      "text/plain": [
       "array([  1.90841458e+00,   1.90841458e+00,   1.90841458e+00, ...,\n",
       "         4.68693249e-07,   2.37908013e-07,   8.16821677e-08])"
      ]
     },
     "execution_count": 81,
     "metadata": {},
     "output_type": "execute_result"
    }
   ],
   "source": [
    "mass"
   ]
  },
  {
   "cell_type": "code",
   "execution_count": 85,
   "metadata": {},
   "outputs": [],
   "source": [
    "# change mass\n",
    "mass[0] = 1.0"
   ]
  },
  {
   "cell_type": "code",
   "execution_count": 86,
   "metadata": {},
   "outputs": [],
   "source": [
    "# change data\n",
    "data_rewrite['cycle0000034001']['SE_DATASET']['mass'] = mass"
   ]
  },
  {
   "cell_type": "code",
   "execution_count": 87,
   "metadata": {},
   "outputs": [],
   "source": [
    "# close\n",
    "data_rewrite.close()"
   ]
  },
  {
   "cell_type": "code",
   "execution_count": 88,
   "metadata": {},
   "outputs": [],
   "source": [
    "# open again\n",
    "data = h5py.File(path + 'M2.00Z0.020.0034001.se.h5','r')"
   ]
  },
  {
   "cell_type": "code",
   "execution_count": 103,
   "metadata": {},
   "outputs": [
    {
     "data": {
      "text/plain": [
       "array([  1.00000000e+00,   1.90841458e+00,   1.90841458e+00, ...,\n",
       "         4.68693249e-07,   2.37908013e-07,   8.16821677e-08])"
      ]
     },
     "execution_count": 103,
     "metadata": {},
     "output_type": "execute_result"
    }
   ],
   "source": [
    "data['cycle0000034001']['SE_DATASET']['mass']"
   ]
  },
  {
   "cell_type": "code",
   "execution_count": 92,
   "metadata": {},
   "outputs": [],
   "source": [
    "temp = data.get('cycle0000034001')"
   ]
  },
  {
   "cell_type": "code",
   "execution_count": 95,
   "metadata": {},
   "outputs": [],
   "source": [
    "temp2 = temp.get('SE_DATASET')"
   ]
  },
  {
   "cell_type": "code",
   "execution_count": 99,
   "metadata": {},
   "outputs": [],
   "source": [
    "# read in data\n",
    "mass_new = np.zeros(temp2.shape,temp2.dtype)\n",
    "temp2.read_direct(mass_new)"
   ]
  },
  {
   "cell_type": "code",
   "execution_count": 102,
   "metadata": {},
   "outputs": [
    {
     "data": {
      "text/plain": [
       "[]"
      ]
     },
     "execution_count": 102,
     "metadata": {},
     "output_type": "execute_result"
    }
   ],
   "source": [
    "temp2.attrs.keys()"
   ]
  },
  {
   "cell_type": "code",
   "execution_count": 90,
   "metadata": {},
   "outputs": [
    {
     "ename": "ValueError",
     "evalue": "Not a location (invalid object ID)",
     "output_type": "error",
     "traceback": [
      "\u001b[0;31m\u001b[0m",
      "\u001b[0;31mValueError\u001b[0mTraceback (most recent call last)",
      "\u001b[0;32m<ipython-input-90-760cd45281a2>\u001b[0m in \u001b[0;36m<module>\u001b[0;34m()\u001b[0m\n\u001b[1;32m      1\u001b[0m \u001b[0;31m# get the mass data\u001b[0m\u001b[0;34m\u001b[0m\u001b[0;34m\u001b[0m\u001b[0m\n\u001b[0;32m----> 2\u001b[0;31m \u001b[0mmass_new\u001b[0m \u001b[0;34m=\u001b[0m \u001b[0mdata_rewrite\u001b[0m\u001b[0;34m[\u001b[0m\u001b[0;34m'cycle0000034001'\u001b[0m\u001b[0;34m]\u001b[0m\u001b[0;34m[\u001b[0m\u001b[0;34m'SE_DATASET'\u001b[0m\u001b[0;34m]\u001b[0m\u001b[0;34m[\u001b[0m\u001b[0;34m'mass'\u001b[0m\u001b[0;34m]\u001b[0m\u001b[0;34m\u001b[0m\u001b[0m\n\u001b[0m",
      "\u001b[0;32mh5py/_objects.pyx\u001b[0m in \u001b[0;36mh5py._objects.with_phil.wrapper\u001b[0;34m()\u001b[0m\n",
      "\u001b[0;32mh5py/_objects.pyx\u001b[0m in \u001b[0;36mh5py._objects.with_phil.wrapper\u001b[0;34m()\u001b[0m\n",
      "\u001b[0;32m/usr/local/lib/python2.7/dist-packages/h5py/_hl/group.pyc\u001b[0m in \u001b[0;36m__getitem__\u001b[0;34m(self, name)\u001b[0m\n\u001b[1;32m    165\u001b[0m                 \u001b[0;32mraise\u001b[0m \u001b[0mValueError\u001b[0m\u001b[0;34m(\u001b[0m\u001b[0;34m\"Invalid HDF5 object reference\"\u001b[0m\u001b[0;34m)\u001b[0m\u001b[0;34m\u001b[0m\u001b[0m\n\u001b[1;32m    166\u001b[0m         \u001b[0;32melse\u001b[0m\u001b[0;34m:\u001b[0m\u001b[0;34m\u001b[0m\u001b[0m\n\u001b[0;32m--> 167\u001b[0;31m             \u001b[0moid\u001b[0m \u001b[0;34m=\u001b[0m \u001b[0mh5o\u001b[0m\u001b[0;34m.\u001b[0m\u001b[0mopen\u001b[0m\u001b[0;34m(\u001b[0m\u001b[0mself\u001b[0m\u001b[0;34m.\u001b[0m\u001b[0mid\u001b[0m\u001b[0;34m,\u001b[0m \u001b[0mself\u001b[0m\u001b[0;34m.\u001b[0m\u001b[0m_e\u001b[0m\u001b[0;34m(\u001b[0m\u001b[0mname\u001b[0m\u001b[0;34m)\u001b[0m\u001b[0;34m,\u001b[0m \u001b[0mlapl\u001b[0m\u001b[0;34m=\u001b[0m\u001b[0mself\u001b[0m\u001b[0;34m.\u001b[0m\u001b[0m_lapl\u001b[0m\u001b[0;34m)\u001b[0m\u001b[0;34m\u001b[0m\u001b[0m\n\u001b[0m\u001b[1;32m    168\u001b[0m \u001b[0;34m\u001b[0m\u001b[0m\n\u001b[1;32m    169\u001b[0m         \u001b[0motype\u001b[0m \u001b[0;34m=\u001b[0m \u001b[0mh5i\u001b[0m\u001b[0;34m.\u001b[0m\u001b[0mget_type\u001b[0m\u001b[0;34m(\u001b[0m\u001b[0moid\u001b[0m\u001b[0;34m)\u001b[0m\u001b[0;34m\u001b[0m\u001b[0m\n",
      "\u001b[0;32mh5py/_objects.pyx\u001b[0m in \u001b[0;36mh5py._objects.with_phil.wrapper\u001b[0;34m()\u001b[0m\n",
      "\u001b[0;32mh5py/_objects.pyx\u001b[0m in \u001b[0;36mh5py._objects.with_phil.wrapper\u001b[0;34m()\u001b[0m\n",
      "\u001b[0;32mh5py/h5o.pyx\u001b[0m in \u001b[0;36mh5py.h5o.open\u001b[0;34m()\u001b[0m\n",
      "\u001b[0;31mValueError\u001b[0m: Not a location (invalid object ID)"
     ]
    }
   ],
   "source": [
    "# get the mass data\n",
    "mass_new = data_rewrite['cycle0000034001']['SE_DATASET']['mass']"
   ]
  },
  {
   "cell_type": "code",
   "execution_count": 71,
   "metadata": {},
   "outputs": [],
   "source": [
    "mass = data['cycle0000034001']['SE_DATASET']['mass']"
   ]
  },
  {
   "cell_type": "code",
   "execution_count": 72,
   "metadata": {},
   "outputs": [],
   "source": [
    "# change one point in mass, save file and reload to see if different\n",
    "mass[0] = 1.0"
   ]
  },
  {
   "cell_type": "code",
   "execution_count": null,
   "metadata": {},
   "outputs": [],
   "source": [
    "# overwrite the data\n",
    "data[...] = mass"
   ]
  },
  {
   "cell_type": "code",
   "execution_count": 73,
   "metadata": {},
   "outputs": [
    {
     "data": {
      "text/plain": [
       "array([  1.00000000e+00,   1.90841458e+00,   1.90841458e+00, ...,\n",
       "         4.68693249e-07,   2.37908013e-07,   8.16821677e-08])"
      ]
     },
     "execution_count": 73,
     "metadata": {},
     "output_type": "execute_result"
    }
   ],
   "source": [
    "mass"
   ]
  },
  {
   "cell_type": "code",
   "execution_count": 38,
   "metadata": {},
   "outputs": [],
   "source": [
    "temp2 = data.get('A')"
   ]
  },
  {
   "cell_type": "code",
   "execution_count": 42,
   "metadata": {},
   "outputs": [
    {
     "data": {
      "text/plain": [
       "array([(  1.,), (  4.,), ( 12.,), ( 13.,), ( 14.,), ( 16.,)],\n",
       "      dtype=[('data', '<f8')])"
      ]
     },
     "execution_count": 42,
     "metadata": {},
     "output_type": "execute_result"
    }
   ],
   "source": [
    "temp2.value"
   ]
  },
  {
   "cell_type": "code",
   "execution_count": 7,
   "metadata": {},
   "outputs": [],
   "source": [
    "# attempt to read in data\n",
    "tmp = data.get('cycle0000034001',None)"
   ]
  },
  {
   "cell_type": "code",
   "execution_count": 55,
   "metadata": {},
   "outputs": [],
   "source": [
    "tmp2 = tmp.get('SE_DATASET')"
   ]
  },
  {
   "cell_type": "code",
   "execution_count": 62,
   "metadata": {},
   "outputs": [],
   "source": [
    "a = tmp2.read_direct?"
   ]
  },
  {
   "cell_type": "code",
   "execution_count": 64,
   "metadata": {},
   "outputs": [],
   "source": [
    "temp_data = np.zeros(np.shape(tmp2),tmp2.dtype)"
   ]
  },
  {
   "cell_type": "code",
   "execution_count": 65,
   "metadata": {},
   "outputs": [],
   "source": [
    "tmp2.read_direct(temp_data)"
   ]
  },
  {
   "cell_type": "code",
   "execution_count": 66,
   "metadata": {},
   "outputs": [
    {
     "data": {
      "text/plain": [
       "array([ (  1.90841458e+00,   9.54207288e-13,   2.34058817e+13,   1.83234957e-09,   2.92894506e+03,   0.00000000e+00, 1, [  6.82445659e-01,   2.92707806e-01,   5.19162280e-03,   1.02228829e-04,   2.70161966e-03,   1.04863477e-02],   3.30876149e+02,  18.04576501,   6.73956186e-22,  -1.47332534e+03),\n",
       "       (  1.90841458e+00,   2.72508913e-12,   2.34058817e+13,   1.83235158e-09,   2.92894506e+03,   1.72104585e+18, 1, [  6.82445659e-01,   2.92707806e-01,   5.19162280e-03,   1.02228829e-04,   2.70161966e-03,   1.04863477e-02],   3.30876801e+02,  18.69093241,   6.73956186e-22,  -1.47332534e+03),\n",
       "       (  1.90841458e+00,   1.10851638e-11,   2.34058817e+13,   1.83234974e-09,   2.92894506e+03,   1.72104750e+18, 1, [  6.82445659e-01,   2.92707806e-01,   5.19162280e-03,   1.02228829e-04,   2.70161966e-03,   1.04863477e-02],   3.30876149e+02,  18.09878303,   6.73956186e-22,  -1.47332534e+03),\n",
       "       ...,\n",
       "       (  4.68693249e-07,   3.12483117e-07,   4.96050248e+06,   2.43127874e+06,   7.62881248e+07,   0.00000000e+00, 0, [  1.00000000e-99,   2.61964783e-30,   2.08275598e-01,   3.17371130e-27,   2.52435490e-32,   7.65410590e-01],   1.02038630e+23,  11.08132706,   6.99623227e-29,   3.40814579e-04),\n",
       "       (  2.37908013e-07,   1.49087355e-07,   3.93704878e+06,   2.43137823e+06,   7.62869542e+07,   0.00000000e+00, 0, [  1.00000000e-99,   1.00000000e-99,   2.08275598e-01,   1.00000000e-99,   1.00000000e-99,   7.65410590e-01],   1.02044938e+23,  11.10328158,   0.00000000e+00,   2.70517373e-04),\n",
       "       (  8.16821677e-08,   1.63364335e-07,   3.17170810e+06,   2.43146184e+06,   7.62859503e+07,   0.00000000e+00, 0, [  2.05774094e-98,   2.32616517e-38,   2.08275598e-01,   8.97309318e-60,   2.20793134e-64,   7.65410590e-01],   1.02050238e+23,  10.90140852,   6.20957514e-37,   2.17963763e-04)],\n",
       "      dtype=[('mass', '<f8'), ('delta_mass', '<f8'), ('radius', '<f8'), ('rho', '<f8'), ('temperature', '<f8'), ('dcoeff', '<f8'), ('convection_indicator', '<i4'), ('yps', '<f8', (6,)), ('pressure', '<f8'), ('eps_grav', '<f8'), ('eps_nuc', '<f8'), ('velocity', '<f8')])"
      ]
     },
     "execution_count": 66,
     "metadata": {},
     "output_type": "execute_result"
    }
   ],
   "source": [
    "temp_data"
   ]
  },
  {
   "cell_type": "code",
   "execution_count": null,
   "metadata": {},
   "outputs": [],
   "source": [
    "# check for the data at particular model numbers\n",
    "star3_pp.se.get(34000,'yps')"
   ]
  },
  {
   "cell_type": "code",
   "execution_count": null,
   "metadata": {},
   "outputs": [],
   "source": []
  },
  {
   "cell_type": "code",
   "execution_count": null,
   "metadata": {},
   "outputs": [],
   "source": [
    "len(a)"
   ]
  },
  {
   "cell_type": "code",
   "execution_count": null,
   "metadata": {},
   "outputs": [],
   "source": []
  }
 ],
 "metadata": {
  "kernelspec": {
   "display_name": "Python 2",
   "language": "python",
   "name": "python2"
  },
  "language_info": {
   "codemirror_mode": {
    "name": "ipython",
    "version": 2
   },
   "file_extension": ".py",
   "mimetype": "text/x-python",
   "name": "python",
   "nbconvert_exporter": "python",
   "pygments_lexer": "ipython2",
   "version": "2.7.12"
  }
 },
 "nbformat": 4,
 "nbformat_minor": 2
}
