{
 "cells": [
  {
   "cell_type": "code",
   "execution_count": 1,
   "metadata": {},
   "outputs": [
    {
     "name": "stdout",
     "output_type": "stream",
     "text": [
      "Using matplotlib backend: nbAgg\n",
      "Populating the interactive namespace from numpy and matplotlib\n"
     ]
    }
   ],
   "source": [
    "%pylab \n",
    "from nugridpy import nugridse as mp\n",
    "from nugridpy import mesa as ms\n",
    "import matplotlib.pyplot as plt\n",
    "\n",
    "# for plotting consistently with abu_profile\n",
    "from nugridpy import utils as u\n",
    "\n",
    "data_dir=\"/data/nugrid_apod2\"    \n",
    "\n",
    "ms.set_nugrid_path(data_dir)\n",
    "mp.set_nugrid_path(data_dir)"
   ]
  },
  {
   "cell_type": "code",
   "execution_count": 2,
   "metadata": {},
   "outputs": [
    {
     "name": "stdout",
     "output_type": "stream",
     "text": [
      "nugrid_path = /data/nugrid_apod2\n",
      "closest set is set1.2 (Z = 0.02)\n",
      "closest mass is 2.0\n",
      "Using old star.logsa file ...\n",
      " reading ...100% \n",
      "\n"
     ]
    }
   ],
   "source": [
    "# get the mesa star object\n",
    "star = ms.star_log(mass=2.0,Z=0.02)"
   ]
  },
  {
   "cell_type": "code",
   "execution_count": 3,
   "metadata": {},
   "outputs": [
    {
     "name": "stdout",
     "output_type": "stream",
     "text": [
      "Searching files, please wait.......\n",
      "Writing preprocessor files\n",
      "M2.00Z0.020.0053001.out.h5\n",
      "M2.00Z0.020.0053501.out.h5\n",
      "File search complete.\n",
      "Searching files, please wait.......\n",
      "Writing preprocessor files\n",
      "M2.00Z0.020.0053001.out.h5\n",
      "M2.00Z0.020.0053501.out.h5\n",
      "File search complete.\n"
     ]
    }
   ],
   "source": [
    "# read in the h5 files\n",
    "pathM = '/user/ast501/dstephens/mppnp/diffusion_mesa/mppnp_subtime_0/H5_out/'\n",
    "pathJ = '/user/ast501/dstephens/mppnp/diffusion_changes/h5_Jones_S100/mppnp_subtime_0/H5_out/'\n",
    "\n",
    "star_ppM = mp.se(pathM,rewrite=True)\n",
    "star_ppJ = mp.se(pathJ,rewrite=True)"
   ]
  },
  {
   "cell_type": "markdown",
   "metadata": {},
   "source": [
    "## Functions"
   ]
  },
  {
   "cell_type": "code",
   "execution_count": 4,
   "metadata": {},
   "outputs": [],
   "source": [
    "# define function to get Zr mil ratio\n",
    "def Zr_mil(Zr96,Zr94):\n",
    "\n",
    "    # read in the abundace file\n",
    "    path = '/user/david/github/Astr501/David Project/iniab.txt'\n",
    "    solar_abn = np,genfromtxt(path,delimiter=' ',unpack=True,dtype=str)\n",
    "\n",
    "    # Zr (90,91,92,94,96)\n",
    "    Zr_abun = []\n",
    "\n",
    "    # find the zr strings\n",
    "    for i in range(len(solar_abn[1])):\n",
    "        if solar_abn[1][i] == 'zr':   \n",
    "\n",
    "            # the isotope abundance value is 2 after\n",
    "            Zr_abun.append(float(solar_abn[1][i+2]))\n",
    "    print(Zr_abun)        \n",
    "    ratio_96_94 = Zr_abun[-1] / Zr_abun[3]\n",
    "    \n",
    "    # return per mil value\n",
    "    return ((Zr96 / Zr94) / ratio_96_94 - 1) * 1e3\n",
    "\n",
    "# define functions, make general enough for further use\n",
    "def iso_mass_avg(iso_massf,mass_index):\n",
    "    \n",
    "    # iso massf is only one species for one model number\n",
    "    # ensure that there aren't any SIGNIFCANT outliars in sample\n",
    "    iso_massf = iso_massf[mass_index[0]:(mass_index[1]+1)]\n",
    "    \n",
    "#     # determine the 5sigma outliar\n",
    "#     error = 5*np.std(iso_massf)\n",
    "#     mean = np.mean(iso_massf)\n",
    "    \n",
    "#     average = 0\n",
    "#     length = 0\n",
    "    \n",
    "#     for i in range(len(iso_massf)):\n",
    "#         if abs(iso_massf[i] - mean) < error:\n",
    "#             average += iso_massf[i]\n",
    "#             length += 1\n",
    "    \n",
    "#     return average / float(length)\n",
    "    return np.mean(iso_massf)\n",
    "\n",
    "######################################################################################################\n",
    "# define a function to use an iso_massf, isotope list and grab those data arrays\n",
    "def find_iso(iso_massf,isotope_list,species_find):\n",
    "    \n",
    "    # isotope list contains all isotopes and species_fin contains what I'm looking for\n",
    "    # find indices corresponding to species list\n",
    "    iso_index = []\n",
    "    for i in range(len(species_find)):\n",
    "        for p in range(len(isotope_list)):\n",
    "            if species_find[i] == isotope_list[p]:\n",
    "                iso_index.append(p)\n",
    "                break\n",
    "    \n",
    "    # create a list which will slice iso_massf\n",
    "    iso_out = []\n",
    "    for i in range(len(iso_index)):\n",
    "        iso_out.append(iso_massf[:,iso_index[i]])\n",
    "    \n",
    "    # return iso_out\n",
    "    return iso_out\n",
    "\n",
    "\n",
    "# define function to get a 'quantity' for an h5py file of a given cycle/model number\n",
    "def h5_quantity(h5_file,cycle,quantity):\n",
    "    \n",
    "    # quantity is a string which is the data I am looking for\n",
    "    # cycle string format\n",
    "    cycle_string = 'cycle00000' + str(int(cycle))\n",
    "    data = h5_file[cycle_string]['SE_DATASET'][quantity]\n",
    "    \n",
    "    return data\n",
    "\n",
    "# place in an array of mass quantities, look for [mass_find] and return mass_index\n",
    "def find_mass_index(mass,mass_find):\n",
    "    \n",
    "    # mass is a singular mass array, need to find mass_find, may be multiple\n",
    "    mass_index = []\n",
    "    for i in range(len(mass_find)):\n",
    "        mass_index.append(int(np.argmin(abs(mass - mass_find[i]))))\n",
    "        \n",
    "    # return the list\n",
    "    return mass_index\n",
    "\n",
    "# function to find a specific models schwarzschild boundaries in indices\n",
    "def mass_bounds(star,model,mass):\n",
    "    \n",
    "    # WORKING WITH MODEL #, NEED TO USE PYTHON SLICING THOUGH\n",
    "    # get the boundaries of mass for the convection zone\n",
    "    star_mass = star.get('star_mass')[model-1]\n",
    "    mix_bot = star.get('mx2_bot')[model-1] * star_mass\n",
    "    mix_top = star.get('mx2_top')[model-1] * star_mass\n",
    "    \n",
    "    # find indices\n",
    "    schwarz = []\n",
    "    schwarz.append(int(np.argmin(abs(mass - mix_bot))))\n",
    "    schwarz.append(int(np.argmin(abs(mass - mix_top))))\n",
    "    \n",
    "    # return\n",
    "    return schwarz\n",
    "\n",
    "    # function to find the maximum extent of convection zone as well as the average extent\n",
    "def avg_mass_bounds(star,model_range):\n",
    "    # just need the star objects, and the model range that the convection zone is contained in\n",
    "\n",
    "    # get the mass ranges of convection boundary\n",
    "    star_mass = star.get('star_mass')[model_range[0]:model_range[1]]\n",
    "    mix_low = star.get('mx2_bot')[model_range[0]:model_range[1]]\n",
    "    mix_high = star.get('mx2_top')[model_range[0]:model_range[1]]\n",
    "    \n",
    "    # find where they are zero or not\n",
    "    convection_bounds = []\n",
    "    for i in range(len(star_mass) - 1):\n",
    "        \n",
    "        # make sure that there is convection and that the next element doesnt stop\n",
    "        if mix_low[i] >= 1e-9 and mix_low[i+1] >= 1e-9:\n",
    "            convection_bounds.append(i)\n",
    "            \n",
    "    # slice the arrays to the appropriate size\n",
    "    star_mass = star_mass[convection_bounds[0]:(convection_bounds[-1] + 1)]\n",
    "    mix_low = mix_low[convection_bounds[0]:(convection_bounds[-1] + 1)] * star_mass\n",
    "    mix_high = mix_high[convection_bounds[0]:(convection_bounds[-1] + 1)] * star_mass\n",
    "    \n",
    "    # make sure that if there\n",
    "    \n",
    "    # return the max convection bounds as well as average AND new model range\n",
    "    max_bounds = [min(mix_low),max(mix_high)]\n",
    "    avg_bounds = [np.mean(mix_low),np.mean(mix_high)]\n",
    "    model_range = [model_range[0] + convection_bounds[0], model_range[0] + convection_bounds[-1]]\n",
    "    \n",
    "    return max_bounds, avg_bounds, model_range"
   ]
  },
  {
   "cell_type": "markdown",
   "metadata": {},
   "source": [
    "## Compare Average Neutron Densities"
   ]
  },
  {
   "cell_type": "code",
   "execution_count": 5,
   "metadata": {},
   "outputs": [],
   "source": [
    "# first find the model bounds for the convection zone, take maximum extent\n",
    "model_range = [53000,53900]\n",
    "\n",
    "# grab the max_min bounds\n",
    "max_min_bounds, avg_bounds, model_range = avg_mass_bounds(star,model_range)"
   ]
  },
  {
   "cell_type": "code",
   "execution_count": 6,
   "metadata": {},
   "outputs": [
    {
     "name": "stdout",
     "output_type": "stream",
     "text": [
      " reading ['radius']...100%00%"
     ]
    }
   ],
   "source": [
    "# loop through during convection zone, grab average of species wanted \n",
    "models = list(range(model_range[0],model_range[1]))\n",
    "species = ['Neutron-1','Zr-94','Zr-96','Mg-25','Xe-128','Xe-130']\n",
    "\n",
    "isotope_list = star_ppM.se.isotopes\n",
    "\n",
    "# create array to hold averaged mass fractions\n",
    "avg_iso_massfM = np.zeros((len(species),len(models)))\n",
    "avg_iso_massfJ = np.zeros((len(species),len(models)))\n",
    "avg_volume = np.zeros(len(models))\n",
    "\n",
    "avg_densityJ = np.zeros((len(species),len(models)))\n",
    "avg_densityM = np.zeros((len(species),len(models)))\n",
    "\n",
    "for i in range(len(models)):\n",
    "    \n",
    "    # grab the iso_massf\n",
    "    iso_massfM = star_ppM.get(models[i],'iso_massf')\n",
    "    iso_massfJ = star_ppJ.get(models[i],'iso_massf')\n",
    "    mass = star_ppM.get(models[i],'mass')\n",
    "    rho = star_ppM.get(models[i],'rho')\n",
    "    radius = star_ppM.get(models[i],'radius')\n",
    "    \n",
    "    # check for fucked up stuff\n",
    "    if len(iso_massfM) < 4:\n",
    "        iso_massfM = iso_massfM[1]    \n",
    "    if len(iso_massfJ) < 4:\n",
    "        iso_massfJ = iso_massfJ[1]\n",
    "    if len(mass)< 4:\n",
    "        mass = mass[1]\n",
    "    if len(rho) < 4:\n",
    "        rho = rho[1]\n",
    "    if len(radius) < 4:\n",
    "        radius = radius[1]\n",
    "        \n",
    "    # make the smaller iso_massf based on species\n",
    "    iso_massfM = find_iso(iso_massfM,isotope_list,species)\n",
    "    iso_massfJ = find_iso(iso_massfJ,isotope_list,species)\n",
    "    \n",
    "    # find mass index for the convection zone of this particular model\n",
    "    bot_index = find_mass_index(mass,[max_min_bounds[0]])\n",
    "    top_index = find_mass_index(mass,[max_min_bounds[1]])\n",
    "    \n",
    "    mass_index = [bot_index[0],top_index[0]]\n",
    "\n",
    "    # get the volume across the bounds\n",
    "    avg_volume[i] = (4/3. * np.pi) * (np.power(radius[top_index[0]],3.0) - np.power(radius[bot_index[0]],3.0))\n",
    "    \n",
    "    # loop through all species\n",
    "    for p in range(len(species)):\n",
    "        \n",
    "        # get the mass average\n",
    "        avg_iso_massfM[p][i] = iso_mass_avg(iso_massfM[p],mass_index)\n",
    "        avg_iso_massfJ[p][i] = iso_mass_avg(iso_massfJ[p],mass_index)\n",
    "        \n",
    "        # get the species average density\n",
    "        avg_densityJ[p][i] = iso_mass_avg(iso_massfJ[p]*rho,mass_index)\n",
    "        avg_densityM[p][i] = iso_mass_avg(iso_massfM[p]*rho,mass_index)"
   ]
  },
  {
   "cell_type": "markdown",
   "metadata": {},
   "source": [
    "## Write to File"
   ]
  },
  {
   "cell_type": "code",
   "execution_count": 7,
   "metadata": {},
   "outputs": [],
   "source": [
    "# save data to a file (takes a long time to run this stuff)\n",
    "f = open('MJS100_subtime0.txt','w')\n",
    "f.write('# Model #, volume (Rsun^3),')\n",
    "\n",
    "# write the density for species\n",
    "f.write('[Density: ')\n",
    "for i in range(len(species)):\n",
    "    if i == len(species) - 1:\n",
    "        f.write(species[i] + '],')\n",
    "    else:\n",
    "        f.write(species[i] + ',')\n",
    "\n",
    "# write the species mass fractions\n",
    "f.write('[Massf: ')\n",
    "for i in range(len(species)):\n",
    "    if i == len(species) - 1:\n",
    "        f.write(species[i] + ']\\n')\n",
    "    else:\n",
    "        f.write(species[i] + ',')\n",
    "\n",
    "# write in csv format\n",
    "for i in range(len(models)):\n",
    "    \n",
    "    f.write(str(models[i])+ ',')\n",
    "    f.write(str(avg_volume[i]) + ',')\n",
    "    \n",
    "    # write species densities\n",
    "    for p in range(len(species)):\n",
    "        f.write(str(avg_densityJ[p][i]) + ',')\n",
    "    \n",
    "    # write species massf\n",
    "    for p in range(len(species)):\n",
    "        if p == len(species) - 1:\n",
    "             f.write(str(avg_iso_massfJ[p][i]) + '\\n')\n",
    "        else:\n",
    "            f.write(str(avg_iso_massfJ[p][i]) + ',')"
   ]
  },
  {
   "cell_type": "code",
   "execution_count": 8,
   "metadata": {},
   "outputs": [],
   "source": [
    "# save data to a file (takes a long time to run this stuff)\n",
    "f = open('MJS100_subtime0M.txt','w')\n",
    "f.write('# Model #, volume (Rsun^3),')\n",
    "\n",
    "# write the density for species\n",
    "f.write('[Density: ')\n",
    "for i in range(len(species)):\n",
    "    if i == len(species) - 1:\n",
    "        f.write(species[i] + '],')\n",
    "    else:\n",
    "        f.write(species[i] + ',')\n",
    "\n",
    "# write the species mass fractions\n",
    "f.write('[Massf: ')\n",
    "for i in range(len(species)):\n",
    "    if i == len(species) - 1:\n",
    "        f.write(species[i] + ']\\n')\n",
    "    else:\n",
    "        f.write(species[i] + ',')\n",
    "\n",
    "# write in csv format\n",
    "for i in range(len(models)):\n",
    "    \n",
    "    f.write(str(models[i])+ ',')\n",
    "    f.write(str(avg_volume[i]) + ',')\n",
    "    \n",
    "    # write species densities\n",
    "    for p in range(len(species)):\n",
    "        f.write(str(avg_densityM[p][i]) + ',')\n",
    "    \n",
    "    # write species massf\n",
    "    for p in range(len(species)):\n",
    "        if p == len(species) - 1:\n",
    "             f.write(str(avg_iso_massfM[p][i]) + '\\n')\n",
    "        else:\n",
    "            f.write(str(avg_iso_massfM[p][i]) + ',')"
   ]
  },
  {
   "cell_type": "code",
   "execution_count": null,
   "metadata": {},
   "outputs": [],
   "source": [
    "# make plot of the average neutron densities\n",
    "plt.figure(1)\n",
    "\n",
    "plt.semilogy(models,avg_iso_massfM[0],'b--')\n",
    "plt.semilogy(models,avg_iso_massfJ[0],'r--')\n",
    "\n",
    "# plt.xlim([53700,53800])"
   ]
  },
  {
   "cell_type": "markdown",
   "metadata": {},
   "source": [
    "This is a weird average neutron mass fraction, what effects did it have"
   ]
  },
  {
   "cell_type": "code",
   "execution_count": null,
   "metadata": {},
   "outputs": [],
   "source": [
    "# get absolute mass production of MG 25 relative to the mass BEFORE convection zone\n",
    "Mg_baseJ = avg_densityJ[3][0] * avg_volume[0] * (6.95e8 * 1e2)**3\n",
    "Mg_baseM = avg_densityM[3][0] * avg_volume[0] * (6.95e8 * 1e2)**3\n",
    "\n",
    "# get the magnesium production as a percent difference\n",
    "Mg_productionJ = np.zeros(len(models))\n",
    "Mg_productionM = np.zeros(len(models))\n",
    "\n",
    "for i in range(len(models)):\n",
    "    Mg_productionJ[i] = abs(avg_densityJ[3][i] * avg_volume[i] * (6.95e8 * 1e2)**3 - Mg_baseJ) / Mg_baseJ\n",
    "    Mg_productionM[i] = abs(avg_densityM[3][i] * avg_volume[i] * (6.95e8 * 1e2)**3 - Mg_baseM) / Mg_baseM\n",
    "    \n",
    "# make the plot\n",
    "plt.figure(64)\n",
    "\n",
    "plt.plot(models,Mg_productionJ)\n",
    "plt.plot(models,Mg_productionM)"
   ]
  },
  {
   "cell_type": "code",
   "execution_count": null,
   "metadata": {},
   "outputs": [],
   "source": [
    "# take a look at the diffusion coefficient, something might be wrong\n",
    "temp_model = 53400\n",
    "diffusion = star_ppJ.get(temp_model,'dcoeff')\n",
    "diffusion_old = star_ppM.get(temp_model,'dcoeff')\n",
    "mass = star_ppJ.get(temp_model,'mass')"
   ]
  },
  {
   "cell_type": "code",
   "execution_count": null,
   "metadata": {},
   "outputs": [],
   "source": [
    "# plot\n",
    "plt.figure(2)\n",
    "plt.semilogy(mass,diffusion)\n",
    "plt.semilogy(mass,diffusion_old[0])"
   ]
  },
  {
   "cell_type": "code",
   "execution_count": null,
   "metadata": {},
   "outputs": [],
   "source": [
    "# take a look at the species abundances after all is said and done\n",
    "species_temp = ['Ne-22','Mg-25','Zr-94','Zr-96']\n",
    "\n",
    "plt.figure(3)\n",
    "star_ppJ.abu_profile(isos=species_temp,ifig=3,fname=53400,logy=True)\n",
    "plt.xlim(0.56,0.62)"
   ]
  },
  {
   "cell_type": "code",
   "execution_count": null,
   "metadata": {},
   "outputs": [],
   "source": []
  }
 ],
 "metadata": {
  "kernelspec": {
   "display_name": "Python 3",
   "language": "python",
   "name": "python3"
  },
  "language_info": {
   "codemirror_mode": {
    "name": "ipython",
    "version": 3
   },
   "file_extension": ".py",
   "mimetype": "text/x-python",
   "name": "python",
   "nbconvert_exporter": "python",
   "pygments_lexer": "ipython3",
   "version": "3.5.2"
  }
 },
 "nbformat": 4,
 "nbformat_minor": 2
}
